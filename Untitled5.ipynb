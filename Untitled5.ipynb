{
 "cells": [
  {
   "cell_type": "code",
   "execution_count": 1,
   "metadata": {},
   "outputs": [],
   "source": [
    "import pandas as pd\n",
    "import numpy as np\n",
    "import folium \n",
    "import sklearn\n",
    "import geocoder\n",
    "from geopy.geocoders import Nominatim\n",
    "import requests\n",
    "import matplotlib.pyplot as plt"
   ]
  },
  {
   "cell_type": "code",
   "execution_count": 2,
   "metadata": {},
   "outputs": [],
   "source": [
    "mumbai_areas=pd.read_html(\"https://en.wikipedia.org/wiki/List_of_neighbourhoods_in_Mumbai\")[0]"
   ]
  },
  {
   "cell_type": "code",
   "execution_count": 3,
   "metadata": {},
   "outputs": [
    {
     "data": {
      "text/plain": [
       "array(['Andheri,Western Suburbs', 'Western Suburbs',\n",
       "       'Mira-Bhayandar,Western Suburbs', 'Bandra,Western Suburbs',\n",
       "       'Borivali (West),Western Suburbs', 'Goregaon,Western Suburbs',\n",
       "       'Kandivali West,Western Suburbs', 'Kandivali East,Western Suburbs',\n",
       "       'Khar,Western Suburbs', 'Malad,Western Suburbs',\n",
       "       'Sanctacruz,Western Suburbs', 'Vasai,Western Suburbs',\n",
       "       'Vile Parle,Western Suburbs', 'Eastern Suburbs',\n",
       "       'Ghatkopar,Eastern Suburbs', 'Kurla,Eastern Suburbs',\n",
       "       'Mulund,Eastern Suburbs', 'Powai,Eastern Suburbs',\n",
       "       'Harbour Suburbs', 'Govandi,Harbour Suburbs',\n",
       "       'Trombay,Harbour Suburbs', 'South Mumbai',\n",
       "       'Antop Hill,South Mumbai', 'Byculla,South Mumbai',\n",
       "       'Colaba,South Mumbai', 'Dadar,South Mumbai', 'Fort,South Mumbai',\n",
       "       'Kalbadevi,South Mumbai', 'Kamathipura,South Mumbai',\n",
       "       'Tardeo,South Mumbai', 'Mumbai'], dtype=object)"
      ]
     },
     "execution_count": 3,
     "metadata": {},
     "output_type": "execute_result"
    }
   ],
   "source": [
    "mumbai_areas.Location.unique()"
   ]
  },
  {
   "cell_type": "markdown",
   "metadata": {},
   "source": [
    "### What areas have most neighborhoods"
   ]
  },
  {
   "cell_type": "code",
   "execution_count": 4,
   "metadata": {},
   "outputs": [
    {
     "data": {
      "text/html": [
       "<div>\n",
       "<style scoped>\n",
       "    .dataframe tbody tr th:only-of-type {\n",
       "        vertical-align: middle;\n",
       "    }\n",
       "\n",
       "    .dataframe tbody tr th {\n",
       "        vertical-align: top;\n",
       "    }\n",
       "\n",
       "    .dataframe thead th {\n",
       "        text-align: right;\n",
       "    }\n",
       "</style>\n",
       "<table border=\"1\" class=\"dataframe\">\n",
       "  <thead>\n",
       "    <tr style=\"text-align: right;\">\n",
       "      <th></th>\n",
       "      <th>Area</th>\n",
       "      <th>Latitude</th>\n",
       "      <th>Longitude</th>\n",
       "    </tr>\n",
       "    <tr>\n",
       "      <th>Location</th>\n",
       "      <th></th>\n",
       "      <th></th>\n",
       "      <th></th>\n",
       "    </tr>\n",
       "  </thead>\n",
       "  <tbody>\n",
       "    <tr>\n",
       "      <th>South Mumbai</th>\n",
       "      <td>30</td>\n",
       "      <td>30</td>\n",
       "      <td>30</td>\n",
       "    </tr>\n",
       "    <tr>\n",
       "      <th>Andheri,Western Suburbs</th>\n",
       "      <td>8</td>\n",
       "      <td>8</td>\n",
       "      <td>8</td>\n",
       "    </tr>\n",
       "    <tr>\n",
       "      <th>Western Suburbs</th>\n",
       "      <td>6</td>\n",
       "      <td>6</td>\n",
       "      <td>6</td>\n",
       "    </tr>\n",
       "    <tr>\n",
       "      <th>Eastern Suburbs</th>\n",
       "      <td>4</td>\n",
       "      <td>4</td>\n",
       "      <td>4</td>\n",
       "    </tr>\n",
       "    <tr>\n",
       "      <th>Kandivali West,Western Suburbs</th>\n",
       "      <td>3</td>\n",
       "      <td>3</td>\n",
       "      <td>3</td>\n",
       "    </tr>\n",
       "    <tr>\n",
       "      <th>Bandra,Western Suburbs</th>\n",
       "      <td>3</td>\n",
       "      <td>3</td>\n",
       "      <td>3</td>\n",
       "    </tr>\n",
       "    <tr>\n",
       "      <th>Powai,Eastern Suburbs</th>\n",
       "      <td>3</td>\n",
       "      <td>3</td>\n",
       "      <td>3</td>\n",
       "    </tr>\n",
       "    <tr>\n",
       "      <th>Ghatkopar,Eastern Suburbs</th>\n",
       "      <td>3</td>\n",
       "      <td>3</td>\n",
       "      <td>3</td>\n",
       "    </tr>\n",
       "    <tr>\n",
       "      <th>Mira-Bhayandar,Western Suburbs</th>\n",
       "      <td>3</td>\n",
       "      <td>3</td>\n",
       "      <td>3</td>\n",
       "    </tr>\n",
       "    <tr>\n",
       "      <th>Borivali (West),Western Suburbs</th>\n",
       "      <td>2</td>\n",
       "      <td>2</td>\n",
       "      <td>2</td>\n",
       "    </tr>\n",
       "    <tr>\n",
       "      <th>Vasai,Western Suburbs</th>\n",
       "      <td>2</td>\n",
       "      <td>2</td>\n",
       "      <td>2</td>\n",
       "    </tr>\n",
       "    <tr>\n",
       "      <th>Mumbai</th>\n",
       "      <td>2</td>\n",
       "      <td>2</td>\n",
       "      <td>2</td>\n",
       "    </tr>\n",
       "    <tr>\n",
       "      <th>Malad,Western Suburbs</th>\n",
       "      <td>2</td>\n",
       "      <td>2</td>\n",
       "      <td>2</td>\n",
       "    </tr>\n",
       "    <tr>\n",
       "      <th>Khar,Western Suburbs</th>\n",
       "      <td>2</td>\n",
       "      <td>2</td>\n",
       "      <td>2</td>\n",
       "    </tr>\n",
       "    <tr>\n",
       "      <th>Goregaon,Western Suburbs</th>\n",
       "      <td>2</td>\n",
       "      <td>2</td>\n",
       "      <td>2</td>\n",
       "    </tr>\n",
       "    <tr>\n",
       "      <th>Kalbadevi,South Mumbai</th>\n",
       "      <td>2</td>\n",
       "      <td>2</td>\n",
       "      <td>2</td>\n",
       "    </tr>\n",
       "    <tr>\n",
       "      <th>Harbour Suburbs</th>\n",
       "      <td>2</td>\n",
       "      <td>2</td>\n",
       "      <td>2</td>\n",
       "    </tr>\n",
       "    <tr>\n",
       "      <th>Sanctacruz,Western Suburbs</th>\n",
       "      <td>1</td>\n",
       "      <td>1</td>\n",
       "      <td>1</td>\n",
       "    </tr>\n",
       "    <tr>\n",
       "      <th>Vile Parle,Western Suburbs</th>\n",
       "      <td>1</td>\n",
       "      <td>1</td>\n",
       "      <td>1</td>\n",
       "    </tr>\n",
       "    <tr>\n",
       "      <th>Colaba,South Mumbai</th>\n",
       "      <td>1</td>\n",
       "      <td>1</td>\n",
       "      <td>1</td>\n",
       "    </tr>\n",
       "    <tr>\n",
       "      <th>Trombay,Harbour Suburbs</th>\n",
       "      <td>1</td>\n",
       "      <td>1</td>\n",
       "      <td>1</td>\n",
       "    </tr>\n",
       "    <tr>\n",
       "      <th>Tardeo,South Mumbai</th>\n",
       "      <td>1</td>\n",
       "      <td>1</td>\n",
       "      <td>1</td>\n",
       "    </tr>\n",
       "    <tr>\n",
       "      <th>Dadar,South Mumbai</th>\n",
       "      <td>1</td>\n",
       "      <td>1</td>\n",
       "      <td>1</td>\n",
       "    </tr>\n",
       "    <tr>\n",
       "      <th>Kamathipura,South Mumbai</th>\n",
       "      <td>1</td>\n",
       "      <td>1</td>\n",
       "      <td>1</td>\n",
       "    </tr>\n",
       "    <tr>\n",
       "      <th>Fort,South Mumbai</th>\n",
       "      <td>1</td>\n",
       "      <td>1</td>\n",
       "      <td>1</td>\n",
       "    </tr>\n",
       "    <tr>\n",
       "      <th>Antop Hill,South Mumbai</th>\n",
       "      <td>1</td>\n",
       "      <td>1</td>\n",
       "      <td>1</td>\n",
       "    </tr>\n",
       "    <tr>\n",
       "      <th>Mulund,Eastern Suburbs</th>\n",
       "      <td>1</td>\n",
       "      <td>1</td>\n",
       "      <td>1</td>\n",
       "    </tr>\n",
       "    <tr>\n",
       "      <th>Govandi,Harbour Suburbs</th>\n",
       "      <td>1</td>\n",
       "      <td>1</td>\n",
       "      <td>1</td>\n",
       "    </tr>\n",
       "    <tr>\n",
       "      <th>Kurla,Eastern Suburbs</th>\n",
       "      <td>1</td>\n",
       "      <td>1</td>\n",
       "      <td>1</td>\n",
       "    </tr>\n",
       "    <tr>\n",
       "      <th>Byculla,South Mumbai</th>\n",
       "      <td>1</td>\n",
       "      <td>1</td>\n",
       "      <td>1</td>\n",
       "    </tr>\n",
       "    <tr>\n",
       "      <th>Kandivali East,Western Suburbs</th>\n",
       "      <td>1</td>\n",
       "      <td>1</td>\n",
       "      <td>1</td>\n",
       "    </tr>\n",
       "  </tbody>\n",
       "</table>\n",
       "</div>"
      ],
      "text/plain": [
       "                                 Area  Latitude  Longitude\n",
       "Location                                                  \n",
       "South Mumbai                       30        30         30\n",
       "Andheri,Western Suburbs             8         8          8\n",
       "Western Suburbs                     6         6          6\n",
       "Eastern Suburbs                     4         4          4\n",
       "Kandivali West,Western Suburbs      3         3          3\n",
       "Bandra,Western Suburbs              3         3          3\n",
       "Powai,Eastern Suburbs               3         3          3\n",
       "Ghatkopar,Eastern Suburbs           3         3          3\n",
       "Mira-Bhayandar,Western Suburbs      3         3          3\n",
       "Borivali (West),Western Suburbs     2         2          2\n",
       "Vasai,Western Suburbs               2         2          2\n",
       "Mumbai                              2         2          2\n",
       "Malad,Western Suburbs               2         2          2\n",
       "Khar,Western Suburbs                2         2          2\n",
       "Goregaon,Western Suburbs            2         2          2\n",
       "Kalbadevi,South Mumbai              2         2          2\n",
       "Harbour Suburbs                     2         2          2\n",
       "Sanctacruz,Western Suburbs          1         1          1\n",
       "Vile Parle,Western Suburbs          1         1          1\n",
       "Colaba,South Mumbai                 1         1          1\n",
       "Trombay,Harbour Suburbs             1         1          1\n",
       "Tardeo,South Mumbai                 1         1          1\n",
       "Dadar,South Mumbai                  1         1          1\n",
       "Kamathipura,South Mumbai            1         1          1\n",
       "Fort,South Mumbai                   1         1          1\n",
       "Antop Hill,South Mumbai             1         1          1\n",
       "Mulund,Eastern Suburbs              1         1          1\n",
       "Govandi,Harbour Suburbs             1         1          1\n",
       "Kurla,Eastern Suburbs               1         1          1\n",
       "Byculla,South Mumbai                1         1          1\n",
       "Kandivali East,Western Suburbs      1         1          1"
      ]
     },
     "execution_count": 4,
     "metadata": {},
     "output_type": "execute_result"
    }
   ],
   "source": [
    "area_count=mumbai_areas.groupby('Location').count().sort_values(by='Latitude',ascending=False) #South Mumbai has a lot more areas than others\n",
    "\n",
    "area_count"
   ]
  },
  {
   "cell_type": "markdown",
   "metadata": {},
   "source": [
    "### Bar chart of the neighborhood distribution"
   ]
  },
  {
   "cell_type": "code",
   "execution_count": 5,
   "metadata": {},
   "outputs": [
    {
     "data": {
      "text/plain": [
       "<matplotlib.legend.Legend at 0xf849e10>"
      ]
     },
     "execution_count": 5,
     "metadata": {},
     "output_type": "execute_result"
    },
    {
     "data": {
      "image/png": "[encoded data removed]",
      "text/plain": [
       "<Figure size 432x288 with 1 Axes>"
      ]
     },
     "metadata": {
      "needs_background": "light"
     },
     "output_type": "display_data"
    }
   ],
   "source": [
    "area_count.Area.plot(kind='bar',color='orange',label='Location')\n",
    "plt.ylabel('Number of Areas')\n",
    "plt.legend()"
   ]
  },
  {
   "cell_type": "markdown",
   "metadata": {},
   "source": [
    "### Foursquare credentials "
   ]
  },
  {
   "cell_type": "code",
   "execution_count": 6,
   "metadata": {},
   "outputs": [
    {
     "name": "stdout",
     "output_type": "stream",
     "text": [
      "Your credentails:\n",
      "CLIENT_ID: 5RIDO0Y4INEHAHNNSJD45W01CGWQ02DVBWAJZVCB5TZYRMYK\n",
      "CLIENT_SECRET:0JLESGKZCSVJRE2KMAMAE3P3AMLOJ41TK5C5KHK5YDYLM0T3\n"
     ]
    }
   ],
   "source": [
    "CLIENT_ID = '5RIDO0Y4INEHAHNNSJD45W01CGWQ02DVBWAJZVCB5TZYRMYK' # your Foursquare ID\n",
    "CLIENT_SECRET = '0JLESGKZCSVJRE2KMAMAE3P3AMLOJ41TK5C5KHK5YDYLM0T3' # your Foursquare Secret\n",
    "VERSION = '20180605' # Foursquare API version\n",
    "print('Your credentails:')\n",
    "print('CLIENT_ID: ' + CLIENT_ID)\n",
    "print('CLIENT_SECRET:' + CLIENT_SECRET)"
   ]
  },
  {
   "cell_type": "code",
   "execution_count": 7,
   "metadata": {},
   "outputs": [],
   "source": [
    "# type your answer here\n",
    "LIMIT = 100 # limit of number of venues returned by Foursquare API\n",
    "\n",
    "\n",
    "radius = 500 # define radius\n",
    "\n"
   ]
  },
  {
   "cell_type": "code",
   "execution_count": 8,
   "metadata": {},
   "outputs": [],
   "source": [
    "# url='api.foursquare.com.v2/venues/explore?&client_id={}&client_secret={}&v={}&ll={},{}&radius={}&limit={}'.format(client_id,client_secret,version,ll[0],ll[1],radius,limit)"
   ]
  },
  {
   "cell_type": "code",
   "execution_count": null,
   "metadata": {},
   "outputs": [],
   "source": []
  },
  {
   "cell_type": "code",
   "execution_count": 9,
   "metadata": {},
   "outputs": [],
   "source": [
    "mumbai_areas['Coordinates']=[x for x in zip(mumbai_areas.Latitude,mumbai_areas.Longitude)]"
   ]
  },
  {
   "cell_type": "code",
   "execution_count": 10,
   "metadata": {},
   "outputs": [],
   "source": [
    "mumbai_areas.drop(['Latitude','Longitude'],axis=1,inplace=True)"
   ]
  },
  {
   "cell_type": "code",
   "execution_count": 11,
   "metadata": {},
   "outputs": [],
   "source": [
    "def get_url(x):\n",
    "    ll=x\n",
    "    url = 'https://api.foursquare.com/v2/venues/explore?&client_id={}&client_secret={}&v={}&ll={},{}&radius={}&limit={}'.format(\n",
    "        CLIENT_ID, \n",
    "        CLIENT_SECRET, \n",
    "        VERSION, \n",
    "        ll[0],ll[1],radius, \n",
    "        LIMIT)\n",
    "    return url"
   ]
  },
  {
   "cell_type": "code",
   "execution_count": 12,
   "metadata": {},
   "outputs": [],
   "source": [
    "urls=mumbai_areas.loc[:,'Coordinates'].map(get_url)"
   ]
  },
  {
   "cell_type": "code",
   "execution_count": 13,
   "metadata": {},
   "outputs": [],
   "source": [
    "# def get_category(df):\n",
    "#     series=df.loc[:,'venue.categories'].map(lambda x : x[0]['name'])\n",
    "#     return series.tolist()"
   ]
  },
  {
   "cell_type": "code",
   "execution_count": 14,
   "metadata": {},
   "outputs": [],
   "source": [
    "len_ind=[]\n",
    "\n",
    "for x in urls:\n",
    "    try:\n",
    "         len_ind.append(len(requests.get(x).json()['response']['groups'][0]['items']))\n",
    "    except:\n",
    "        print(x)"
   ]
  },
  {
   "cell_type": "code",
   "execution_count": 15,
   "metadata": {},
   "outputs": [],
   "source": [
    "len_ind=np.array(len_ind)\n",
    "ind=np.where(len_ind!=0)"
   ]
  },
  {
   "cell_type": "code",
   "execution_count": null,
   "metadata": {},
   "outputs": [],
   "source": []
  },
  {
   "cell_type": "code",
   "execution_count": 16,
   "metadata": {},
   "outputs": [],
   "source": [
    "urls=urls.map(lambda x : requests.get(x).json()['response']['groups'][0]['items'])"
   ]
  },
  {
   "cell_type": "code",
   "execution_count": 17,
   "metadata": {},
   "outputs": [],
   "source": [
    "urls=urls[ind[0]]"
   ]
  },
  {
   "cell_type": "code",
   "execution_count": 18,
   "metadata": {},
   "outputs": [],
   "source": [
    "neighborhood_categories=[]\n",
    "\n",
    "for items in urls:\n",
    "    \n",
    "    cats=[]\n",
    "    for x in range(len(items)):\n",
    "        cats.append(items[x]['venue']['categories'][0]['name'])\n",
    "    neighborhood_categories.append(cats)"
   ]
  },
  {
   "cell_type": "code",
   "execution_count": 19,
   "metadata": {},
   "outputs": [],
   "source": [
    "neighbor_cats_df=pd.DataFrame(neighborhood_categories)"
   ]
  },
  {
   "cell_type": "code",
   "execution_count": 20,
   "metadata": {},
   "outputs": [],
   "source": [
    "mumbai_areas=mumbai_areas.iloc[ind[0],:]"
   ]
  },
  {
   "cell_type": "code",
   "execution_count": 21,
   "metadata": {},
   "outputs": [],
   "source": [
    "neighbor_cats_df.index=mumbai_areas.index"
   ]
  },
  {
   "cell_type": "code",
   "execution_count": 22,
   "metadata": {},
   "outputs": [],
   "source": [
    "area_venue_cat=pd.concat([mumbai_areas,neighbor_cats_df],axis=1)"
   ]
  },
  {
   "cell_type": "code",
   "execution_count": 23,
   "metadata": {},
   "outputs": [],
   "source": [
    "from sklearn.preprocessing import OneHotEncoder\n",
    "from sklearn.compose import ColumnTransformer"
   ]
  },
  {
   "cell_type": "code",
   "execution_count": 106,
   "metadata": {},
   "outputs": [],
   "source": [
    "categories=np.array(list(set(area_venue_cat.iloc[:,3:].values.tolist()[59])))\n",
    "\n",
    "venue_cats=area_venue_cat.iloc[:,3:].fillna('0')\n",
    "\n"
   ]
  },
  {
   "cell_type": "code",
   "execution_count": 107,
   "metadata": {},
   "outputs": [],
   "source": [
    "ls=[]\n",
    "for x in area_venue_cat.values.tolist():\n",
    "    ls+=x\n",
    "\n",
    "    \n",
    "categories=list(set(ls))"
   ]
  },
  {
   "cell_type": "code",
   "execution_count": 108,
   "metadata": {},
   "outputs": [],
   "source": [
    "# # pd.get_dummies(area_venue_cat)\n",
    "\n",
    "ohe=OneHotEncoder(sparse=False)\n",
    "\n",
    "enc_fit=ohe.fit(np.array(categories).reshape(-1,1))\n",
    "\n",
    "enc=enc_fit.transform(venue_cats.values.reshape(-1,1))"
   ]
  },
  {
   "cell_type": "code",
   "execution_count": null,
   "metadata": {},
   "outputs": [],
   "source": []
  },
  {
   "cell_type": "code",
   "execution_count": 117,
   "metadata": {},
   "outputs": [
    {
     "data": {
      "text/plain": [
       "[array(['0', 'ATM', 'Advertising Agency', 'Afghan Restaurant',\n",
       "        'American Restaurant', 'Amphitheater', 'Antique Shop', 'Aquarium',\n",
       "        'Arcade', 'Art Gallery', 'Arts & Crafts Store', 'Asian Restaurant',\n",
       "        'BBQ Joint', 'Bagel Shop', 'Bakery', 'Bank', 'Bar', 'Beach',\n",
       "        'Bed & Breakfast', 'Beer Bar', 'Beer Garden', 'Bengali Restaurant',\n",
       "        'Big Box Store', 'Bistro', 'Bookstore', 'Boutique',\n",
       "        'Bowling Alley', 'Breakfast Spot', 'Brewery', 'Bridal Shop',\n",
       "        'Buffet', 'Burger Joint', 'Bus Station', 'Café', 'Chaat Place',\n",
       "        'Cheese Shop', 'Chinese Restaurant', 'Clothing Store',\n",
       "        'Club House', 'Cocktail Bar', 'Coffee Shop', 'College Auditorium',\n",
       "        'Comedy Club', 'Concert Hall', 'Convenience Store',\n",
       "        'Cosmetics Shop', 'Creperie', 'Cricket Ground', 'Cupcake Shop',\n",
       "        'Dance Studio', 'Deli / Bodega', 'Department Store',\n",
       "        'Dessert Shop', 'Dhaba', 'Dim Sum Restaurant', 'Diner', 'Dog Run',\n",
       "        'Donut Shop', 'Electronics Store', 'Event Space',\n",
       "        'Falafel Restaurant', 'Farmers Market', 'Fast Food Restaurant',\n",
       "        'Field', 'Fish & Chips Shop', 'Fish Market', 'Flower Shop', 'Food',\n",
       "        'Food Court', 'Food Truck', 'French Restaurant',\n",
       "        'Fried Chicken Joint', 'Frozen Yogurt Shop',\n",
       "        'Furniture / Home Store', 'Garden', 'Gastropub',\n",
       "        'General Entertainment', 'German Restaurant', 'Gift Shop',\n",
       "        'Goan Restaurant', 'Gourmet Shop', 'Greek Restaurant',\n",
       "        'Grocery Store', 'Gym', 'Gym / Fitness Center', 'Harbor / Marina',\n",
       "        'Health & Beauty Service', 'History Museum', 'Hookah Bar',\n",
       "        'Hostel', 'Hotel', 'Hotel Bar', 'Ice Cream Shop',\n",
       "        'Indian Restaurant', 'Indie Movie Theater', 'Indoor Play Area',\n",
       "        'Italian Restaurant', 'Japanese Restaurant', 'Jewelry Store',\n",
       "        'Juice Bar', 'Karaoke Bar', 'Lake', 'Lighthouse', 'Liquor Store',\n",
       "        'Lounge', 'Maharashtrian Restaurant', 'Market',\n",
       "        'Mediterranean Restaurant', \"Men's Store\", 'Mexican Restaurant',\n",
       "        'Middle Eastern Restaurant', 'Miscellaneous Shop',\n",
       "        'Monument / Landmark', 'Movie Theater', 'Moving Target',\n",
       "        'Mughlai Restaurant', 'Multiplex', 'Music Store', 'Music Venue',\n",
       "        'Neighborhood', 'New American Restaurant', 'Nightclub',\n",
       "        'Noodle House', 'North Indian Restaurant', 'Office',\n",
       "        'Other Great Outdoors', 'Paper / Office Supplies Store', 'Park',\n",
       "        'Parsi Restaurant', 'Performing Arts Venue', 'Pharmacy',\n",
       "        'Photography Studio', 'Pizza Place', 'Platform', 'Playground',\n",
       "        'Plaza', 'Pool', 'Portuguese Restaurant', 'Pub',\n",
       "        'Recreation Center', 'Residential Building (Apartment / Condo)',\n",
       "        'Resort', 'Restaurant', 'Salad Place', 'Salon / Barbershop',\n",
       "        'Sandwich Place', 'Scenic Lookout', 'Seafood Restaurant',\n",
       "        'Shipping Store', 'Shop & Service', 'Shopping Mall',\n",
       "        'Skating Rink', 'Smoke Shop', 'Snack Place', 'Soccer Field',\n",
       "        'South Indian Restaurant', 'Spa', 'Sporting Goods Shop',\n",
       "        'Sports Bar', 'Stables', 'Stadium', 'Steakhouse', 'Tea Room',\n",
       "        'Tex-Mex Restaurant', 'Theater', 'Tourist Information Center',\n",
       "        'Trail', 'Train Station', 'Vegetarian / Vegan Restaurant',\n",
       "        'Whisky Bar', 'Wine Bar', 'Wine Shop', \"Women's Store\",\n",
       "        'Yoga Studio'], dtype='<U40')]"
      ]
     },
     "execution_count": 117,
     "metadata": {},
     "output_type": "execute_result"
    }
   ],
   "source": [
    "enc_fit.categories_"
   ]
  },
  {
   "cell_type": "code",
   "execution_count": null,
   "metadata": {},
   "outputs": [],
   "source": []
  },
  {
   "cell_type": "code",
   "execution_count": null,
   "metadata": {},
   "outputs": [],
   "source": []
  },
  {
   "cell_type": "code",
   "execution_count": null,
   "metadata": {},
   "outputs": [],
   "source": []
  },
  {
   "cell_type": "code",
   "execution_count": null,
   "metadata": {},
   "outputs": [],
   "source": []
  },
  {
   "cell_type": "code",
   "execution_count": null,
   "metadata": {},
   "outputs": [],
   "source": []
  },
  {
   "cell_type": "code",
   "execution_count": null,
   "metadata": {},
   "outputs": [],
   "source": []
  },
  {
   "cell_type": "code",
   "execution_count": null,
   "metadata": {},
   "outputs": [],
   "source": []
  },
  {
   "cell_type": "code",
   "execution_count": null,
   "metadata": {},
   "outputs": [],
   "source": []
  },
  {
   "cell_type": "code",
   "execution_count": null,
   "metadata": {},
   "outputs": [],
   "source": []
  },
  {
   "cell_type": "code",
   "execution_count": null,
   "metadata": {},
   "outputs": [],
   "source": []
  },
  {
   "cell_type": "code",
   "execution_count": null,
   "metadata": {},
   "outputs": [],
   "source": []
  },
  {
   "cell_type": "code",
   "execution_count": null,
   "metadata": {},
   "outputs": [],
   "source": []
  },
  {
   "cell_type": "code",
   "execution_count": null,
   "metadata": {},
   "outputs": [],
   "source": []
  },
  {
   "cell_type": "code",
   "execution_count": null,
   "metadata": {},
   "outputs": [],
   "source": []
  },
  {
   "cell_type": "code",
   "execution_count": null,
   "metadata": {},
   "outputs": [],
   "source": []
  },
  {
   "cell_type": "code",
   "execution_count": null,
   "metadata": {},
   "outputs": [],
   "source": []
  },
  {
   "cell_type": "code",
   "execution_count": null,
   "metadata": {},
   "outputs": [],
   "source": []
  }
 ],
 "metadata": {
  "kernelspec": {
   "display_name": "Python 3",
   "language": "python",
   "name": "python3"
  },
  "language_info": {
   "codemirror_mode": {
    "name": "ipython",
    "version": 3
   },
   "file_extension": ".py",
   "mimetype": "text/x-python",
   "name": "python",
   "nbconvert_exporter": "python",
   "pygments_lexer": "ipython3",
   "version": "3.7.6"
  }
 },
 "nbformat": 4,
 "nbformat_minor": 4
}
